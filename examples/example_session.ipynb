{
 "cells": [
  {
   "cell_type": "code",
   "execution_count": 1,
   "metadata": {},
   "outputs": [],
   "source": [
    "%load_ext autoreload\n",
    "%autoreload 2"
   ]
  },
  {
   "cell_type": "code",
   "execution_count": 9,
   "metadata": {
    "scrolled": false
   },
   "outputs": [
    {
     "name": "stdout",
     "output_type": "stream",
     "text": [
      "bike-packing True\n",
      "49\n"
     ]
    },
    {
     "data": {
      "image/png": "[encoded data removed]",
      "text/plain": [
       "<Figure size 432x288 with 1 Axes>"
      ]
     },
     "metadata": {},
     "output_type": "display_data"
    },
    {
     "name": "stdout",
     "output_type": "stream",
     "text": [
      "[0.        0.        0.        0.        0.        0.        0.\n",
      " 0.        0.        0.        0.        0.        0.        0.\n",
      " 0.        0.        0.        0.        0.        0.        0.\n",
      " 0.        0.        0.        0.        0.        0.        0.\n",
      " 0.        0.        0.        0.        0.        0.        0.\n",
      " 0.        0.        0.        0.        0.        0.        0.\n",
      " 0.        0.        0.        0.        0.        0.        0.\n",
      " 0.0134819 0.        0.        0.        0.        0.        0.\n",
      " 0.        0.        0.        0.        0.        0.        0.\n",
      " 0.        0.        0.        0.        0.        0.       ]\n",
      "0\n"
     ]
    }
   ],
   "source": [
    "from davisinteractive.client import DavisInteractiveSession\n",
    "from davisinteractive.dataset import Davis\n",
    "from davisinteractive.utils.scribbles import scribbles2mask\n",
    "\n",
    "import matplotlib.pyplot as plt\n",
    "%matplotlib inline\n",
    "\n",
    "davis_root = '/Users/alberto/Workspace/CVL/datasets/davis-2017/data/DAVIS/'\n",
    "davis = Davis(davis_root)\n",
    "\n",
    "def model(sequence, scribbles):\n",
    "    seq_info = davis.dataset['sequences'][sequence]\n",
    "    img_size = tuple(seq_info['image_size'][::-1])\n",
    "    \n",
    "    masks = scribbles2mask(scribbles, img_size, default_value=0, bezier_curve_sampling=True, bresenham_=True)\n",
    "    return masks\n",
    "\n",
    "with DavisInteractiveSession(host='localhost', davis_root=davis_root, \n",
    "                             subset='val', max_time=None, max_nb_interactions=3) as sess:\n",
    "    while sess.is_running():\n",
    "        sequence, scribbles, new_sequence = sess.get_scribbles(only_last=False)\n",
    "        print(sequence, new_sequence)\n",
    "        \n",
    "        annotated_frame = scribbles['annotated_frame']\n",
    "        print(annotated_frame)\n",
    "        masks = model(sequence, scribbles)\n",
    "        \n",
    "#         plt.figure(dpi=600)\n",
    "        plt.imshow(masks[annotated_frame])\n",
    "        plt.axis('off')\n",
    "        plt.show()\n",
    "        \n",
    "        sess.submit_masks(masks)\n",
    "        break"
   ]
  },
  {
   "cell_type": "code",
   "execution_count": null,
   "metadata": {},
   "outputs": [],
   "source": [
    "import numpy as np\n",
    "from scipy.special import comb\n",
    "\n",
    "points = np.asarray(scribbles['scribbles'][6][0]['path'], dtype=np.float)\n",
    "points.shape\n",
    "\n",
    "n_points = len(points)\n",
    "\n",
    "t = np.linspace(0., 1., nb_points).reshape(1, -1)\n",
    "\n",
    "# Compute the Bernstein polynomial of n, i as a function of t\n",
    "i = np.arange(n_points).reshape(-1, 1)\n",
    "n = n_points - 1\n",
    "polynomial_array = comb(n, i) * (t**(n - i)) * (1 - t)**i\n"
   ]
  },
  {
   "cell_type": "code",
   "execution_count": null,
   "metadata": {},
   "outputs": [],
   "source": [
    "comb(1000, 500)"
   ]
  }
 ],
 "metadata": {
  "kernelspec": {
   "display_name": "Python 3",
   "language": "python",
   "name": "python3"
  },
  "language_info": {
   "codemirror_mode": {
    "name": "ipython",
    "version": 3
   },
   "file_extension": ".py",
   "mimetype": "text/x-python",
   "name": "python",
   "nbconvert_exporter": "python",
   "pygments_lexer": "ipython3",
   "version": "3.6.4"
  }
 },
 "nbformat": 4,
 "nbformat_minor": 2
}
